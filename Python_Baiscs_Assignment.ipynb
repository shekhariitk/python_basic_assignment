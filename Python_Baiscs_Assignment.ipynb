{
  "nbformat": 4,
  "nbformat_minor": 0,
  "metadata": {
    "colab": {
      "provenance": []
    },
    "kernelspec": {
      "name": "python3",
      "display_name": "Python 3"
    },
    "language_info": {
      "name": "python"
    }
  },
  "cells": [
    {
      "cell_type": "code",
      "execution_count": 1,
      "metadata": {
        "id": "U-rB1XnVAAFN"
      },
      "outputs": [],
      "source": [
        "#   Q1) Expiain the key features of python that make it a popular choice of programming ?"
      ]
    },
    {
      "cell_type": "code",
      "source": [
        "'''Here are five key features of Python in simple English:\n",
        "\n",
        "1) Easy to Read and Write: Python has a simple and clear syntax, making it easy for beginners to understand and write code.\n",
        "\n",
        "2) Versatile: You can use Python for many different tasks, like web development, data analysis, automation, and more.\n",
        "\n",
        "3) Lots of Libraries: Python has many built-in tools and libraries, which means you can find ready-made solutions for common problems.\n",
        "\n",
        "4) Strong Community: There’s a large community of Python users, so you can find lots of tutorials, forums, and support when you need help.\n",
        "\n",
        "5) Cross-Platform: Python works on different operating systems (like Windows, macOS, and Linux), so you can run your programs anywhere.'''"
      ],
      "metadata": {
        "id": "dc5i0Ww9A0DB"
      },
      "execution_count": null,
      "outputs": []
    },
    {
      "cell_type": "code",
      "source": [
        "# Q2) Describe the role of predefinred keywords in python and provide examples of how they are used in a program?"
      ],
      "metadata": {
        "id": "P8QvkxSfCDYQ"
      },
      "execution_count": 3,
      "outputs": []
    },
    {
      "cell_type": "code",
      "source": [
        "'''In Python, predefined keywords are reserved words that have special meanings and cannot be used as identifiers (like variable names). These keywords define the structure and control flow of the language. Here are some important roles they play:\n",
        "\n",
        "Roles of Predefined Keywords :\n",
        "1) Control Flow: Keywords like if, elif, else, for, and while help control the flow of the program based on conditions or iterations.\n",
        "\n",
        "2) Function Definition: Keywords such as def are used to define functions, enabling code reuse.\n",
        "\n",
        "3) Data Types and Structures: Keywords like class, import, and from are used to define classes and import modules, allowing for better organization and modularity.\n",
        "\n",
        "4) Error Handling: Keywords like try, except, finally, and raise are used to handle exceptions and manage errors gracefully.\n",
        "\n",
        "5) Logical Operations: Keywords like and, or, and not are used to perform logical operations in conditions.'''"
      ],
      "metadata": {
        "id": "qk4FD56TCda9"
      },
      "execution_count": null,
      "outputs": []
    },
    {
      "cell_type": "code",
      "source": [
        "# Function to check if a number is even or odd\n",
        "def check_even_odd(num):\n",
        "    if num % 2 == 0:  # Control flow with 'if'\n",
        "        return \"Even\"\n",
        "    else:  # 'else' for alternative condition\n",
        "        return \"Odd\"\n",
        "\n",
        "# Loop through a range of numbers\n",
        "for i in range(1, 6):  # 'for' loop to iterate\n",
        "    result = check_even_odd(i)\n",
        "    print(f\"{i} is {result}\")\n",
        "\n",
        "# Exception handling\n",
        "try:\n",
        "    # Trying to convert a string to an integer\n",
        "    value = int(\"Hello\")  # This will raise an error\n",
        "except ValueError:  # 'except' to handle specific error\n",
        "    print(\"ValueError: Cannot convert string to integer.\")\n",
        "finally:  # 'finally' block will execute regardless of an error\n",
        "    print(\"Execution completed.\")\n"
      ],
      "metadata": {
        "colab": {
          "base_uri": "https://localhost:8080/"
        },
        "id": "fEADNGT_C-5w",
        "outputId": "ee399aa8-ab79-48ec-a80c-9072d88a02f0"
      },
      "execution_count": 5,
      "outputs": [
        {
          "output_type": "stream",
          "name": "stdout",
          "text": [
            "1 is Odd\n",
            "2 is Even\n",
            "3 is Odd\n",
            "4 is Even\n",
            "5 is Odd\n",
            "ValueError: Cannot convert string to integer.\n",
            "Execution completed.\n"
          ]
        }
      ]
    },
    {
      "cell_type": "code",
      "source": [
        "# Q3) Compare and  contrast mutable and immutable objects in python with examples ?"
      ],
      "metadata": {
        "id": "SI6lIPBTDHSf"
      },
      "execution_count": 6,
      "outputs": []
    },
    {
      "cell_type": "code",
      "source": [
        "'''MUTABLE OBJECTS :\n",
        "Definition: Mutable objects can be modified after they are created. This means you can change their content or state without creating a new object.\n",
        "\n",
        "Examples:\n",
        "\n",
        "1) Lists: You can change, add, or remove elements.\n",
        "2) Dictionaries: You can add, modify, or remove key-value pairs.\n",
        "3) Sets: You can add or remove elements.'''\n",
        "\n",
        "# Mutable example: List\n",
        "my_list = [1, 2, 3]\n",
        "my_list.append(4)  # Modifies the list\n",
        "print(my_list)  # Output: [1, 2, 3, 4]\n",
        "\n",
        "# Mutable example: Dictionary\n",
        "my_dict = {'a': 1, 'b': 2}\n",
        "my_dict['c'] = 3  # Adds a new key-value pair\n",
        "print(my_dict)  # Output: {'a': 1, 'b': 2, 'c': 3}\n",
        "\n",
        "\n",
        "'''Immutable Objects\n",
        "Definition: Immutable objects cannot be changed after they are created. Any modification results in the creation of a new object.\n",
        "\n",
        "Examples:\n",
        "\n",
        "1) Tuples: Cannot change their content after creation.\n",
        "2) Strings: Modifications create new strings.\n",
        "3) Frozensets: Immutable version of sets.'''\n",
        "\n",
        "# Immutable example: Tuple\n",
        "my_tuple = (1, 2, 3)\n",
        "# my_tuple[0] = 4  # This would raise a TypeError\n",
        "print(my_tuple)  # Output: (1, 2, 3)\n",
        "\n",
        "# Immutable example: String\n",
        "my_string = \"Hello\"\n",
        "new_string = my_string.replace(\"H\", \"J\")  # Creates a new string\n",
        "print(new_string)  # Output: \"Jello\"\n",
        "print(my_string)   # Output: \"Hello\" (original remains unchanged)\n",
        "\n"
      ],
      "metadata": {
        "id": "CE4JnPUSD1F1"
      },
      "execution_count": null,
      "outputs": []
    },
    {
      "cell_type": "code",
      "source": [
        "# Q4) Discuss the different types of operators in python and provide examples how they are used ?"
      ],
      "metadata": {
        "id": "M5wlgAmhEZbK"
      },
      "execution_count": 9,
      "outputs": []
    },
    {
      "cell_type": "code",
      "source": [
        "'''1. Arithmetic Operators\n",
        "These operators perform basic mathematical operations.\n",
        "\n",
        "Addition (+): Adds two operands.\n",
        "Subtraction (-): Subtracts the second operand from the first.\n",
        "Multiplication (*): Multiplies two operands.\n",
        "Division (/): Divides the first operand by the second (results in float).\n",
        "Floor Division (//): Divides and returns the largest whole number.\n",
        "Modulus (%): Returns the remainder of the division.\n",
        "Exponentiation (**): Raises the first operand to the power of the second.'''\n",
        "\n",
        "a = 10\n",
        "b = 3\n",
        "print(a + b)  # Output: 13\n",
        "print(a - b)  # Output: 7\n",
        "print(a * b)  # Output: 30\n",
        "print(a / b)  # Output: 3.3333...\n",
        "print(a // b) # Output: 3\n",
        "print(a % b)  # Output: 1\n",
        "print(a ** b) # Output: 1000\n",
        "\n",
        "\n",
        "\n",
        "\n",
        "\n",
        "\n",
        "'''2.Comparison Operators\n",
        "These operators compare two values and return a boolean result (True or False).\n",
        "\n",
        "Equal to (==): Checks if two operands are equal.\n",
        "Not equal to (!=): Checks if two operands are not equal.\n",
        "Greater than (>): Checks if the left operand is greater than the right.\n",
        "Less than (<): Checks if the left operand is less than the right.\n",
        "Greater than or equal to (>=): Checks if the left operand is greater than or equal to the right.\n",
        "Less than or equal to (<=): Checks if the left operand is less than or equal to the right.'''\n",
        "\n",
        "x = 5\n",
        "y = 8\n",
        "print(x == y)  # Output: False\n",
        "print(x != y)  # Output: True\n",
        "print(x > y)   # Output: False\n",
        "print(x < y)   # Output: True\n",
        "print(x >= 5)  # Output: True\n",
        "print(y <= 10) # Output: True\n",
        "\n",
        "\n",
        "\n",
        "\n",
        "'''3. Logical Operators\n",
        "These operators are used to combine conditional statements.\n",
        "\n",
        "AND (and): Returns True if both operands are true.\n",
        "OR (or): Returns True if at least one operand is true.\n",
        "NOT (not): Reverses the boolean value of the operand.'''\n",
        "\n",
        "\n",
        "a = True\n",
        "b = False\n",
        "print(a and b)  # Output: False\n",
        "print(a or b)   # Output: True\n",
        "print(not a)    # Output: False\n",
        "\n",
        "\n",
        "\n",
        "'''4. Assignment Operators\n",
        "These operators assign values to variables, often with an operation included.\n",
        "\n",
        "Assignment (=): Assigns the right-hand operand to the left-hand variable.\n",
        "Add and assign (+=): Adds and assigns the value.\n",
        "Subtract and assign (-=): Subtracts and assigns the value.\n",
        "Multiply and assign (*=): Multiplies and assigns the value.\n",
        "Divide and assign (/=): Divides and assigns the value.\n",
        "Modulus and assign (%=): Modulus and assigns the value.'''\n",
        "\n",
        "\n",
        "num = 10\n",
        "num += 5  # Equivalent to num = num + 5\n",
        "print(num)  # Output: 15\n",
        "\n",
        "num -= 3  # Equivalent to num = num - 3\n",
        "print(num)  # Output: 12\n",
        "\n",
        "\n",
        "\n",
        "'''5. Bitwise Operators\n",
        "These operators perform operations on binary representations of numbers.\n",
        "\n",
        "AND (&): Bitwise AND.\n",
        "OR (|): Bitwise OR.\n",
        "XOR (^): Bitwise XOR.\n",
        "NOT (~): Bitwise NOT.\n",
        "Left Shift (<<): Shifts bits to the left.\n",
        "Right Shift (>>): Shifts bits to the right.'''\n",
        "\n",
        "\n",
        "a = 5  # Binary: 0101\n",
        "b = 3  # Binary: 0011\n",
        "print(a & b)  # Output: 1  (Binary: 0001)\n",
        "print(a | b)  # Output: 7  (Binary: 0111)\n",
        "print(a ^ b)  # Output: 6  (Binary: 0110)\n",
        "print(~a)     # Output: -6 (Binary: ...11111010)\n",
        "print(a << 1) # Output: 10 (Binary: 1010)\n",
        "print(a >> 1) # Output: 2  (Binary: 0010)\n",
        "\n",
        "\n",
        "\n",
        "'''6. Identity Operators\n",
        "These operators check if two variables refer to the same object in memory.\n",
        "\n",
        "is: Returns True if both variables point to the same object.\n",
        "is not: Returns True if both variables do not point to the same object.'''\n",
        "\n",
        "\n",
        "a = [1, 2, 3]\n",
        "b = a\n",
        "c = list(a)\n",
        "print(a is b)     # Output: True\n",
        "print(a is c)     # Output: False\n",
        "print(a == c)     # Output: True\n",
        "\n",
        "\n",
        "'''7. Membership Operators\n",
        "These operators check for membership within a sequence (like lists, tuples, or strings).\n",
        "\n",
        "in: Returns True if a value is found in the sequence.\n",
        "not in: Returns True if a value is not found in the sequence.'''\n",
        "\n",
        "my_list = [1, 2, 3, 4]\n",
        "print(2 in my_list)      # Output: True\n",
        "print(5 not in my_list)  # Output: True\n",
        "\n",
        "\n",
        "\n",
        "\n",
        "\n",
        "\n",
        "\n",
        "\n"
      ],
      "metadata": {
        "id": "ASviPbCFFJhs"
      },
      "execution_count": null,
      "outputs": []
    },
    {
      "cell_type": "code",
      "source": [
        "# Q5) Explain the concept of type casting in python with examples ?"
      ],
      "metadata": {
        "id": "lERzFditGRko"
      },
      "execution_count": 11,
      "outputs": []
    },
    {
      "cell_type": "code",
      "source": [
        "'''Type casting in Python is the process of converting one data type into another. This can be useful when you need to perform operations on different types of data or when you want to ensure that your data is in the correct format for a specific operation.\n",
        "\n",
        "Types of Type Casting\n",
        "Implicit Type Casting (Automatic)\n",
        "\n",
        "Python automatically converts one data type to another without losing data when it’s safe to do so.\n",
        "Explicit Type Casting (Manual)\n",
        "\n",
        "The programmer manually converts one data type to another using built-in functions.\n",
        "Examples of Type Casting\n",
        "\n",
        "1. Implicit Type Casting\n",
        "This occurs when Python automatically promotes a smaller data type to a larger data type.'''\n",
        "\n",
        "# Implicit type casting\n",
        "a = 5          # Integer\n",
        "b = 2.0        # Float\n",
        "result = a + b # a is converted to float automatically\n",
        "print(result)  # Output: 7.0 (Float)\n",
        "\n",
        "\n",
        "\n",
        "\n",
        "'''2. Explicit Type Casting\n",
        "You can explicitly convert data types using built-in functions such as int(), float(), and str().'''\n",
        "\n",
        "\n",
        "# Explicit type casting to int\n",
        "num_str = \"10\"\n",
        "num_int = int(num_str)  # Convert string to integer\n",
        "print(num_int)           # Output: 10\n",
        "\n",
        "\n",
        "\n",
        "# Explicit type casting to float\n",
        "num_str = \"10.5\"\n",
        "num_float = float(num_str)  # Convert string to float\n",
        "print(num_float)             # Output: 10.5\n",
        "\n",
        "\n",
        "# Explicit type casting to string\n",
        "num = 123\n",
        "num_str = str(num)  # Convert integer to string\n",
        "print(num_str)      # Output: '123'\n",
        "\n",
        "\n",
        "\n",
        "\n",
        "\n"
      ],
      "metadata": {
        "id": "PT_tak0cGkv_"
      },
      "execution_count": null,
      "outputs": []
    },
    {
      "cell_type": "code",
      "source": [
        "# Q6) How do conditional statements work in python ? illustrate with examples"
      ],
      "metadata": {
        "id": "hBmlCYmMHQHJ"
      },
      "execution_count": 13,
      "outputs": []
    },
    {
      "cell_type": "code",
      "source": [
        "'''onditional statements in Python allow you to execute specific blocks of code based on certain conditions. The primary conditional statements are if, elif, and else. Here’s how they work:\n",
        "\n",
        "Basic Structure\n",
        "if statement: Checks a condition. If it’s true, the code block under it is executed.\n",
        "elif statement: (short for \"else if\") allows you to check multiple conditions. If the previous conditions were false, it checks this condition.\n",
        "else statement: Executes a block of code if none of the previous conditions were true.'''\n",
        "\n",
        "'''syntax\n",
        "if condition1:\n",
        "    # Code block if condition1 is true\n",
        "elif condition2:\n",
        "    # Code block if condition2 is true\n",
        "else:\n",
        "    # Code block if none of the above conditions are true '''\n",
        "\n",
        "\n",
        "'''Nested if'''\n",
        "number = 7\n",
        "\n",
        "if number > 0:\n",
        "    print(\"Positive number\")\n",
        "    if number % 2 == 0:\n",
        "        print(\"Even number\")\n",
        "    else:\n",
        "        print(\"Odd number\")  # This will be printed\n",
        "else:\n",
        "    print(\"Negative number or zero\")\n",
        "\n",
        "\n",
        "\n",
        "'''elif'''\n",
        "\n",
        "score = 85\n",
        "\n",
        "if score >= 90:\n",
        "    print(\"Grade: A\")\n",
        "elif score >= 80:\n",
        "    print(\"Grade: B\")  # This will be printed\n",
        "elif score >= 70:\n",
        "    print(\"Grade: C\")\n",
        "else:\n",
        "    print(\"Grade: D\")\n",
        "\n",
        "'''if'''\n",
        "age = 18\n",
        "\n",
        "if age >= 18:\n",
        "    print(\"You are an adult.\")  # This will be printed\n",
        "\n"
      ],
      "metadata": {
        "colab": {
          "base_uri": "https://localhost:8080/"
        },
        "id": "P9-2GSbMHmEF",
        "outputId": "1039e432-f9ca-47cd-dd92-64d7d5bf76b6"
      },
      "execution_count": 15,
      "outputs": [
        {
          "output_type": "stream",
          "name": "stdout",
          "text": [
            "Positive number\n",
            "Odd number\n",
            "Grade: B\n",
            "You are an adult.\n"
          ]
        }
      ]
    },
    {
      "cell_type": "code",
      "source": [],
      "metadata": {
        "id": "aUHrJ2hEIC9D"
      },
      "execution_count": null,
      "outputs": []
    }
  ]
}